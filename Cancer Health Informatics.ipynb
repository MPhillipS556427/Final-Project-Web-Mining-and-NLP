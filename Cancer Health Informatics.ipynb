{
 "cells": [
  {
   "cell_type": "markdown",
   "id": "e9f21160-389d-4768-8509-3b5c59f12656",
   "metadata": {},
   "source": [
    "# Cancer Health Informatics using Web Mining and NLP\n",
    "\n",
    "### Student Name: Malcolm Phillip\n",
    "\n",
    "### GitHub Repo link: https://github.com/MPhillipS556427/Final-Project-Web-Mining-and-NLP.git \n",
    "\n",
    "\n",
    "## Project Description: \n",
    "In this project for module 7, we will leverage web mining and natural language processing (NLP) techniques to analyze cancer-related topics from the National Cancer Institute website. We will focus on article summarization, sentiment analysis, and text analysis to gain insights into the most common words and ideas used in cancer-related content. We will use Python and Jupyter Notebook for implementation.\n",
    "\n",
    "Every question that requires you to write code will have a code cell underneath it; you may either write your entire solution in that cell or write it in a python file (`.py`), then import and run the appropriate code to answer the question.\n",
    "\n",
    "Use the following link to help execute the coding by answering the questions: https://www.cancer.gov/about-cancer/understanding \n",
    "\n",
    "This assignment requires that you write additional files; make sure to submit those files in your repository as well."
   ]
  },
  {
   "cell_type": "code",
   "execution_count": null,
   "id": "884f0792-59e4-4aec-b2c3-6d13372d6e14",
   "metadata": {},
   "outputs": [],
   "source": []
  },
  {
   "cell_type": "markdown",
   "id": "5bd7ee19-f9a6-4ebe-b7c6-d642668adcf2",
   "metadata": {},
   "source": [
    "# Question 1: Article Summarization\n",
    "Generate a concise summary of a cancer-related article from the provided link."
   ]
  },
  {
   "cell_type": "code",
   "execution_count": 1,
   "id": "580f6ce9-117a-44c9-b613-5b624a161fa0",
   "metadata": {},
   "outputs": [
    {
     "name": "stdout",
     "output_type": "stream",
     "text": [
      "Understanding Cancer - NCI\n",
      "Understanding Cancer\n",
      "Understanding Cancer\n",
      "Understanding Cancer\n",
      "At its most basic, cancer is a disease of the genes in the cells of our body.\n",
      "These abnormal cells can become cancer.\n",
      "Understanding how genetic changes cause cancer is one way to understand this disease, while cancer statistics is another.\n",
      "Cancer statistics help scientists understand the burden of cancer on society.\n",
      "Cancer statistics also help scientists understand cancer health disparities.\n",
      "Cancer Statistics\n",
      "Cancer Statistics\n",
      "Basic information about cancer statistics in the United States and how they are used to understand the impact of cancer on society and to develop strategies that address the challenges that cancer poses.\n",
      "Sign up for email updates\n",
      "National Cancer Institute \n",
      "National Cancer Institute \n"
     ]
    }
   ],
   "source": [
    "from bs4 import BeautifulSoup\n",
    "import requests\n",
    "from gensim.summarization import summarize\n",
    "\n",
    "\n",
    "url = \"https://www.cancer.gov/about-cancer/understanding\"\n",
    "response = requests.get(url)\n",
    "soup = BeautifulSoup(response.text, \"html.parser\")\n",
    "article_text = soup.get_text()\n",
    "\n",
    "\n",
    "summary = summarize(article_text)\n",
    "\n",
    "print(summary)\n",
    "\n"
   ]
  },
  {
   "cell_type": "markdown",
   "id": "b24e1a8d-9ece-4e67-afa1-77875ab6c8a9",
   "metadata": {},
   "source": [
    "# Question 2: Sentiment Analysis\n",
    "Perform sentiment analysis on cancer-related articles to understand the emotional tone."
   ]
  },
  {
   "cell_type": "code",
   "execution_count": null,
   "id": "e6a832f8-327c-4031-9ba0-0bc734984282",
   "metadata": {},
   "outputs": [],
   "source": []
  },
  {
   "cell_type": "markdown",
   "id": "a9b471ca-8b38-4fc2-ae2f-3c859e46a580",
   "metadata": {},
   "source": [
    "# Question 3: Most Common Words\n",
    "Find the most common words used in cancer-related content."
   ]
  },
  {
   "cell_type": "code",
   "execution_count": null,
   "id": "55cd17f0-4cfc-497a-b178-eefffc2b9ba8",
   "metadata": {},
   "outputs": [],
   "source": []
  },
  {
   "cell_type": "markdown",
   "id": "722b9501-06e0-45e8-8602-e38ceb65eaf2",
   "metadata": {},
   "source": [
    "# Question 4: Word Cloud Visualization\n",
    "Create a word cloud visualization of common words in cancer-related content."
   ]
  },
  {
   "cell_type": "code",
   "execution_count": null,
   "id": "416aac3b-d79a-482e-87b3-40bde903e79c",
   "metadata": {},
   "outputs": [],
   "source": []
  },
  {
   "cell_type": "markdown",
   "id": "5c04e74d-c14e-4a7e-8114-e6736a26ea4a",
   "metadata": {},
   "source": [
    "# Question 5: Named Entity Recognition (NER)\n",
    "Identify and extract named entities (e.g., cancer types, drugs) from the content."
   ]
  },
  {
   "cell_type": "code",
   "execution_count": null,
   "id": "5c9b3944-5dc7-4c7d-84f7-493f0cd1657a",
   "metadata": {},
   "outputs": [],
   "source": []
  },
  {
   "cell_type": "markdown",
   "id": "e05754aa-c308-45f2-b9d1-cf43de462047",
   "metadata": {},
   "source": [
    "# Question 6: Keyword Extraction\n",
    "Extract keywords or phrases that are most relevant to the cancer-related content."
   ]
  },
  {
   "cell_type": "code",
   "execution_count": null,
   "id": "e6f630a1-8651-4cbd-8fe7-c2fbd8f7d557",
   "metadata": {},
   "outputs": [],
   "source": []
  },
  {
   "cell_type": "markdown",
   "id": "3733499f-0967-4ac5-a178-3ebaa8354995",
   "metadata": {},
   "source": [
    "# Question 7: Article Clustering\n",
    "Cluster similar cancer-related articles based on their content."
   ]
  },
  {
   "cell_type": "code",
   "execution_count": null,
   "id": "d49a307e-b4ae-4044-beeb-46343254e4b0",
   "metadata": {},
   "outputs": [],
   "source": []
  },
  {
   "cell_type": "markdown",
   "id": "df6d5b98-7dcd-4efd-b65a-31302ff46298",
   "metadata": {},
   "source": [
    "# Question 8: Document Similarity\n",
    "Calculate the similarity between two cancer-related articles."
   ]
  },
  {
   "cell_type": "code",
   "execution_count": null,
   "id": "d6d4a45a-585b-4ea6-b07d-b7c2c528fe05",
   "metadata": {},
   "outputs": [],
   "source": []
  }
 ],
 "metadata": {
  "kernelspec": {
   "display_name": "Python 3 (ipykernel)",
   "language": "python",
   "name": "python3"
  },
  "language_info": {
   "codemirror_mode": {
    "name": "ipython",
    "version": 3
   },
   "file_extension": ".py",
   "mimetype": "text/x-python",
   "name": "python",
   "nbconvert_exporter": "python",
   "pygments_lexer": "ipython3",
   "version": "3.9.13"
  }
 },
 "nbformat": 4,
 "nbformat_minor": 5
}
