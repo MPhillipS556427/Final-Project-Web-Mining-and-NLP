{
 "cells": [
  {
   "cell_type": "markdown",
   "id": "e9f21160-389d-4768-8509-3b5c59f12656",
   "metadata": {},
   "source": [
    "# Cancer Health Informatics using Web Mining and NLP\n",
    "\n",
    "### Student Name: Malcolm Phillip\n",
    "\n",
    "### GitHub Repo link: https://github.com/MPhillipS556427/Final-Project-Web-Mining-and-NLP.git \n",
    "\n",
    "\n",
    "## Project Description: \n",
    "In this project for module 7, we will leverage web mining and natural language processing (NLP) techniques to analyze cancer-related topics from the National Cancer Institute website. We will focus on article summarization, sentiment analysis, and text analysis to gain insights into the most common words and ideas used in cancer-related content. We will use Python and Jupyter Notebook for implementation.\n",
    "\n",
    "Every question that requires you to write code will have a code cell underneath it; you may either write your entire solution in that cell or write it in a python file (`.py`), then import and run the appropriate code to answer the question.\n",
    "\n",
    "Use the following link to help execute the coding by answering the questions: https://www.aljazeera.com/news/2023/6/6/new-trials-show-increased-survival-rates-for-a-range-of-cancers \n",
    "\n",
    "This assignment requires that you write additional files; make sure to submit those files in your repository as well."
   ]
  },
  {
   "cell_type": "code",
   "execution_count": null,
   "id": "884f0792-59e4-4aec-b2c3-6d13372d6e14",
   "metadata": {},
   "outputs": [],
   "source": []
  },
  {
   "cell_type": "markdown",
   "id": "5bd7ee19-f9a6-4ebe-b7c6-d642668adcf2",
   "metadata": {},
   "source": [
    "# Question 1: Article Summarization\n",
    "Generate a concise summary of a cancer-related article from the provided link."
   ]
  },
  {
   "cell_type": "code",
   "execution_count": 5,
   "id": "580f6ce9-117a-44c9-b613-5b624a161fa0",
   "metadata": {},
   "outputs": [
    {
     "name": "stdout",
     "output_type": "stream",
     "text": [
      "Skip linksSkip to Contentplay Live Show navigation menuNavigation menuNewsShow more news sectionsMiddle EastAfricaAsiaUS & CanadaLatin AmericaEuropeAsia PacificUkraine warWorld CupEconomyOpinionVideoMoreShow more sectionsCoronavirusClimate CrisisInvestigationsInteractivesFeaturesIn PicturesScience & TechnologySportsPodcastsplay Live Click here to searchsearchNews|HealthNew trials show increased survival rates for a range of cancersA roundup of some of the most promising announcements at a meeting of the American Society of Clinical Oncology.play videoplay videoVideo Duration 02 minutes 03 seconds 02:03Published On 6 Jun 20236 Jun 2023Scientists have convened in the United States city of Chicago for a meeting of the American Society of Clinical Oncology (ASCO), the world’s biggest gathering of experts on cancer.\n",
      "At the annual event, which wraps up on Tuesday, doctors and researchers revealed several studies that showed increased survival rates for people living with serious stages of the disease, including for lung and brain cancer.\n",
      "Developed by the pharmaceutical group AstraZeneca, the daily pill targets patients with non-small cell cancer – by far the most common type – as well as a mutation of their epidermal growth factor receptor, or EGFR.\n",
      "Iris Pauporte, head of research at France’s League Against Cancer, told AFP news agency the advance was a “big ray of hope” for treating non-small cell lung cancer, for which progress has been slow.\n",
      "Another treatment, called vorasidenib, was found to significantly prolong the progression-free survival of patients with brain tumour glioma, according to clinical trial results.\n",
      "Vorasidenib was found to significantly prolong the progression-free survival of patients with brain tumour glioma [Getty Images]\n",
      "Preliminary trial results also released in Chicago indicated the drug ribociclib reduced the risk of breast cancer recurring by 25 percent for a large group of early-stage survivors.\n",
      "A trial also presented at ASCO showed that taking the antibody treatment mirvetuximab soravtansine significantly improved the survival rate of patients with ovarian cancer, a particularly deadly form of cancer.\n",
      "Preliminary studies announced at the ASCO meeting involved vaccines targeting lung cancer, head and neck cancers, brain tumour glioblastoma and the cancer-causing HPV virus.\n"
     ]
    }
   ],
   "source": [
    "from bs4 import BeautifulSoup\n",
    "import requests\n",
    "from gensim.summarization import summarize\n",
    "\n",
    "\n",
    "url = \"https://www.aljazeera.com/news/2023/6/6/new-trials-show-increased-survival-rates-for-a-range-of-cancers\"\n",
    "response = requests.get(url)\n",
    "soup = BeautifulSoup(response.text, \"html.parser\")\n",
    "article_text = soup.get_text()\n",
    "\n",
    "\n",
    "summary = summarize(article_text)\n",
    "\n",
    "print(summary)\n",
    "\n"
   ]
  },
  {
   "cell_type": "markdown",
   "id": "b24e1a8d-9ece-4e67-afa1-77875ab6c8a9",
   "metadata": {},
   "source": [
    "# Question 2: Sentiment Analysis\n",
    "Perform sentiment analysis on cancer-related articles to understand the emotional tone."
   ]
  },
  {
   "cell_type": "code",
   "execution_count": 6,
   "id": "e6a832f8-327c-4031-9ba0-0bc734984282",
   "metadata": {},
   "outputs": [
    {
     "name": "stdout",
     "output_type": "stream",
     "text": [
      "Sentiment Polarity: 0.13636363636363635\n",
      "Sentiment Subjectivity: 0.45454545454545453\n"
     ]
    }
   ],
   "source": [
    "from textblob import TextBlob\n",
    "\n",
    "\n",
    "sentiment_text = \"New trials show increased survival rates for a range of cancers.\"\n",
    "sentiment = TextBlob(sentiment_text).sentiment\n",
    "\n",
    "\n",
    "print(\"Sentiment Polarity:\", sentiment.polarity)\n",
    "print(\"Sentiment Subjectivity:\", sentiment.subjectivity)\n",
    "\n"
   ]
  },
  {
   "cell_type": "markdown",
   "id": "5b6121a9-a393-4ecb-8ec9-9542ce525012",
   "metadata": {},
   "source": [
    "## Sentiment Analysis Explanation:\n",
    "\n",
    "- Sentiment polarity suggests a slightly positive sentiment. It means that the overall tone of the news article is leaning towards being positive.\n",
    "\n",
    "- Sentiment subjectivity indicates moderate subjectivity, this means that while the article contains some objective information, it also includes a fair amount of subjective or opinion-based content.\n",
    "\n",
    "- The positive sentiment polarity suggests that the article's content is likely discussing positive developments or advancements in cancer treatment. The subjectivity score indicates that the article may not only provide factual information about the trial results but could also have some subjective elements, such as opinions from medical experts, patients, or researchers regarding the significance of these findings.\n",
    "\n"
   ]
  },
  {
   "cell_type": "markdown",
   "id": "a9b471ca-8b38-4fc2-ae2f-3c859e46a580",
   "metadata": {},
   "source": [
    "# Question 3: Most Common Words\n",
    "Find the most common words used in cancer-related content."
   ]
  },
  {
   "cell_type": "code",
   "execution_count": null,
   "id": "55cd17f0-4cfc-497a-b178-eefffc2b9ba8",
   "metadata": {},
   "outputs": [],
   "source": []
  },
  {
   "cell_type": "markdown",
   "id": "722b9501-06e0-45e8-8602-e38ceb65eaf2",
   "metadata": {},
   "source": [
    "# Question 4: Word Cloud Visualization\n",
    "Create a word cloud visualization of common words in cancer-related content."
   ]
  },
  {
   "cell_type": "code",
   "execution_count": null,
   "id": "416aac3b-d79a-482e-87b3-40bde903e79c",
   "metadata": {},
   "outputs": [],
   "source": []
  },
  {
   "cell_type": "markdown",
   "id": "5c04e74d-c14e-4a7e-8114-e6736a26ea4a",
   "metadata": {},
   "source": [
    "# Question 5: Named Entity Recognition (NER)\n",
    "Identify and extract named entities (e.g., cancer types, drugs) from the content."
   ]
  },
  {
   "cell_type": "code",
   "execution_count": null,
   "id": "5c9b3944-5dc7-4c7d-84f7-493f0cd1657a",
   "metadata": {},
   "outputs": [],
   "source": []
  },
  {
   "cell_type": "markdown",
   "id": "e05754aa-c308-45f2-b9d1-cf43de462047",
   "metadata": {},
   "source": [
    "# Question 6: Keyword Extraction\n",
    "Extract keywords or phrases that are most relevant to the cancer-related content."
   ]
  },
  {
   "cell_type": "code",
   "execution_count": null,
   "id": "e6f630a1-8651-4cbd-8fe7-c2fbd8f7d557",
   "metadata": {},
   "outputs": [],
   "source": []
  },
  {
   "cell_type": "markdown",
   "id": "3733499f-0967-4ac5-a178-3ebaa8354995",
   "metadata": {},
   "source": [
    "# Question 7: Article Clustering\n",
    "Cluster similar cancer-related articles based on their content."
   ]
  },
  {
   "cell_type": "code",
   "execution_count": null,
   "id": "d49a307e-b4ae-4044-beeb-46343254e4b0",
   "metadata": {},
   "outputs": [],
   "source": []
  },
  {
   "cell_type": "markdown",
   "id": "df6d5b98-7dcd-4efd-b65a-31302ff46298",
   "metadata": {},
   "source": [
    "# Question 8: Document Similarity\n",
    "Calculate the similarity between two cancer-related articles."
   ]
  },
  {
   "cell_type": "code",
   "execution_count": null,
   "id": "d6d4a45a-585b-4ea6-b07d-b7c2c528fe05",
   "metadata": {},
   "outputs": [],
   "source": []
  }
 ],
 "metadata": {
  "kernelspec": {
   "display_name": "Python 3 (ipykernel)",
   "language": "python",
   "name": "python3"
  },
  "language_info": {
   "codemirror_mode": {
    "name": "ipython",
    "version": 3
   },
   "file_extension": ".py",
   "mimetype": "text/x-python",
   "name": "python",
   "nbconvert_exporter": "python",
   "pygments_lexer": "ipython3",
   "version": "3.9.13"
  }
 },
 "nbformat": 4,
 "nbformat_minor": 5
}
